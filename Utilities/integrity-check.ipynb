{
 "cells": [
  {
   "cell_type": "code",
   "execution_count": null,
   "metadata": {},
   "outputs": [],
   "source": [
    "import os\n",
    "import re\n",
    "import glob\n",
    "import shutil\n",
    "import hashlib\n",
    "\n",
    "def get_files(root_dir, sort=True, re_expr='.*'):\n",
    "    file_list = []\n",
    "    for dir_n, _, fn_list in os.walk(root_dir):\n",
    "        if fn_list:\n",
    "            cur_fs = [os.path.join(dir_n, f) for f in fn_list]\n",
    "            cur_fs = [f for f in cur_fs if bool(re.fullmatch(re_expr, f))]\n",
    "            file_list += cur_fs\n",
    "    if sort:\n",
    "        file_list = sorted(file_list)\n",
    "    return file_list\n",
    "\n",
    "def get_md5(fname, chunk_size=1024*10):\n",
    "    chunk_size = int(chunk_size)\n",
    "    hash_md5 = hashlib.md5()\n",
    "    with open(fname, \"rb\") as f:\n",
    "        for chunk in iter(lambda: f.read(chunk_size), b\"\"):\n",
    "            hash_md5.update(chunk)\n",
    "    return hash_md5.hexdigest()\n",
    "\n",
    "def output_md5(output_file, file_list):\n",
    "    with open(output_file, 'w') as output_file:\n",
    "        for f in file_list:\n",
    "            md5 = get_md5(f)\n",
    "            output_file.write('%s: %s\\n' % (f, md5))"
   ]
  },
  {
   "cell_type": "code",
   "execution_count": null,
   "metadata": {},
   "outputs": [],
   "source": [
    "dst = '/media/tangliyao/2154983E73AB3B54/Image'\n",
    "src = '/media/tangliyao/bhfs/Image'\n",
    "output_dir = '~'\n",
    "\n",
    "src_files = get_files(src, sort=True)\n",
    "dst_files = get_files(dst, sort=True)"
   ]
  },
  {
   "cell_type": "code",
   "execution_count": null,
   "metadata": {},
   "outputs": [],
   "source": [
    "assert len(src_files) == len(dst_files)\n",
    "assert all([i[len(src):] == j[len(dst):] for i, j in zip(src_files, dst_files)])"
   ]
  },
  {
   "cell_type": "code",
   "execution_count": null,
   "metadata": {},
   "outputs": [],
   "source": [
    "src_md5 = os.path.join(os.path.expanduser(output_dir), 'src_md5')\n",
    "dst_md5 = os.path.join(os.path.expanduser(output_dir), 'dst_md5')\n",
    "output_md5(src_md5, src_files)\n",
    "output_md5(dst_md5, dst_files)"
   ]
  },
  {
   "cell_type": "code",
   "execution_count": null,
   "metadata": {},
   "outputs": [],
   "source": [
    "assert get_md5(src_md5) == get_md5(dst_md5)"
   ]
  }
 ],
 "metadata": {
  "kernelspec": {
   "display_name": "Python 3",
   "language": "python",
   "name": "python3"
  },
  "language_info": {
   "codemirror_mode": {
    "name": "ipython",
    "version": 3
   },
   "file_extension": ".py",
   "mimetype": "text/x-python",
   "name": "python",
   "nbconvert_exporter": "python",
   "pygments_lexer": "ipython3",
   "version": "3.6.10"
  }
 },
 "nbformat": 4,
 "nbformat_minor": 4
}

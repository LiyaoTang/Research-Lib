{
 "cells": [
  {
   "cell_type": "code",
   "execution_count": null,
   "metadata": {},
   "outputs": [],
   "source": [
    "import os\n",
    "import re\n",
    "import io\n",
    "import sys\n",
    "import glob\n",
    "import shutil\n",
    "import hashlib\n",
    "import numpy as np\n",
    "\n",
    "import threading\n",
    "import multiprocessing as mp\n",
    "\n",
    "def get_files(root_dir, sort=True, re_expr='.*', exclude=[]):    \n",
    "    root_dir = root_dir.replace(os.sep, '/')\n",
    "    file_list = []\n",
    "    for dir_n, _, fn_list in os.walk(root_dir):\n",
    "        if fn_list:\n",
    "            cur_fs = [os.path.join(dir_n, f).replace(os.sep, '/') for f in fn_list]\n",
    "            cur_fs = [f for f in cur_fs if \\\n",
    "                          bool(re.fullmatch(re_expr, f)) and \\\n",
    "                          all([not bool(re.fullmatch(ex, f)) for ex in exclude])]\n",
    "            file_list += cur_fs\n",
    "    if sort:\n",
    "        file_list = sorted(file_list)\n",
    "    file_list = [f.replace(os.sep, '/') for f in file_list]\n",
    "    return file_list\n",
    "\n",
    "def get_md5(fname, chunk_size=1024*10):\n",
    "    chunk_size = int(chunk_size)\n",
    "    hash_md5 = hashlib.md5()\n",
    "    with open(fname, \"rb\") as f:\n",
    "        for chunk in iter(lambda: f.read(chunk_size), b\"\"):\n",
    "            hash_md5.update(chunk)\n",
    "    return hash_md5.hexdigest()\n",
    "\n",
    "def output_md5(file_list, output_file=sys.stdout, prefix=''):\n",
    "    if type(output_file) == str:\n",
    "        output_file = open(output_file, 'w')\n",
    "    for f in file_list:\n",
    "        md5 = get_md5(prefix+f)\n",
    "        print('%s: %s' % (f, md5), file=output_file)"
   ]
  },
  {
   "cell_type": "code",
   "execution_count": null,
   "metadata": {},
   "outputs": [],
   "source": [
    "# src = '/media/tangliyao/bhfs'\n",
    "# dst = '/media/tangliyao/TOSHIBA EXT'\n",
    "src = 'D:\\\\Image'  # must append with '\\\\' on win platform\n",
    "dst = 'F:\\\\Image'\n",
    "\n",
    "include = '.*'\n",
    "exclude = ['.*/System Volume Information/.*', '.*/\\$RECYCLE.BIN/.*', '.*/\\.Trash.*']\n",
    "\n",
    "src_files = get_files(src, sort=True, re_expr=include, exclude=exclude)\n",
    "dst_files = get_files(dst, sort=True, re_expr=include, exclude=exclude)\n",
    "\n",
    "src_files = [f[len(src):] for f in src_files]\n",
    "dst_files = [f[len(dst):] for f in dst_files]\n",
    "\n",
    "print(f'in src ({src}) but not dst ({dst}):')\n",
    "for i in sorted(list(set(src_files) - set(dst_files))):\n",
    "    print('\\t', i)\n",
    "print(f'in dst ({dst}) but not src ({src}):')\n",
    "for i in sorted(list(set(dst_files) - set(src_files))):\n",
    "    print('\\t', i)"
   ]
  },
  {
   "cell_type": "code",
   "execution_count": null,
   "metadata": {
    "scrolled": true
   },
   "outputs": [],
   "source": [
    "# output_dir = '~'\n",
    "# src_md5 = os.path.join(os.path.expanduser(output_dir), 'src_md5')\n",
    "# dst_md5 = os.path.join(os.path.expanduser(output_dir), 'dst_md5')\n",
    "src_md5 = io.StringIO()\n",
    "dst_md5 = io.StringIO()\n",
    "\n",
    "# # sequential\n",
    "# output_md5(src_files, src_md5, src)\n",
    "# output_md5(dst_files, dst_md5, dst)\n",
    "\n",
    "# # multi-processing (not working in IPython)\n",
    "# worker = [\n",
    "#     mp.Process(target=output_md5, args=(src_files, src_md5, src)),\n",
    "#     mp.Process(target=output_md5, args=(dst_files, dst_md5, dst)),\n",
    "# ]\n",
    "\n",
    "# multi-threading\n",
    "worker = [\n",
    "    threading.Thread(target=output_md5, args=(src_files, src_md5, src)),\n",
    "    threading.Thread(target=output_md5, args=(dst_files, dst_md5, dst)),\n",
    "]\n",
    "\n",
    "for w in worker:\n",
    "    w.start()\n",
    "for w in worker:\n",
    "    w.join()"
   ]
  },
  {
   "cell_type": "code",
   "execution_count": null,
   "metadata": {},
   "outputs": [],
   "source": [
    "src_md5_f = open(src_md5).read().split('\\n') if type(src_md5) == str else src_md5.getvalue().split('\\n')\n",
    "dst_md5_f = open(dst_md5).read().split('\\n') if type(dst_md5) == str else dst_md5.getvalue().split('\\n')\n",
    "\n",
    "for i in np.where(np.array(src_md5_f) != np.array(dst_md5_f))[0]:\n",
    "    print(f'{i} ({src} <--> {dst})\\nsrc_md5_f = {src_md5_f[i]}\\ndst_md5_f = {dst_md5_f}')"
   ]
  },
  {
   "cell_type": "code",
   "execution_count": null,
   "metadata": {
    "scrolled": false
   },
   "outputs": [],
   "source": [
    "output_md5(get_files('D:/Research/RandLA-Net/download/download', re_expr='.*tfevents.*', platform='win10'))"
   ]
  }
 ],
 "metadata": {
  "kernelspec": {
   "display_name": "Python 3",
   "language": "python",
   "name": "python3"
  },
  "language_info": {
   "codemirror_mode": {
    "name": "ipython",
    "version": 3
   },
   "file_extension": ".py",
   "mimetype": "text/x-python",
   "name": "python",
   "nbconvert_exporter": "python",
   "pygments_lexer": "ipython3",
   "version": "3.7.7"
  }
 },
 "nbformat": 4,
 "nbformat_minor": 4
}

{
 "cells": [
  {
   "cell_type": "code",
   "execution_count": 1,
   "metadata": {},
   "outputs": [],
   "source": [
    "import os\n",
    "import re\n",
    "import glob\n",
    "import shutil\n",
    "import hashlib\n",
    "import numpy as np\n",
    "\n",
    "def get_files(root_dir, sort=True, re_expr='.*', exclude=''):\n",
    "    file_list = []\n",
    "    for dir_n, _, fn_list in os.walk(root_dir):\n",
    "        if fn_list:\n",
    "            cur_fs = [os.path.join(dir_n, f) for f in fn_list]\n",
    "            cur_fs = [f for f in cur_fs if \\\n",
    "                          bool(re.fullmatch(re_expr, f)) and \\\n",
    "                          all([not bool(re.fullmatch(ex, f)) for ex in exclude])]\n",
    "            file_list += cur_fs\n",
    "    if sort:\n",
    "        file_list = sorted(file_list)\n",
    "    return file_list\n",
    "\n",
    "def get_md5(fname, chunk_size=1024*10):\n",
    "    chunk_size = int(chunk_size)\n",
    "    hash_md5 = hashlib.md5()\n",
    "    with open(fname, \"rb\") as f:\n",
    "        for chunk in iter(lambda: f.read(chunk_size), b\"\"):\n",
    "            hash_md5.update(chunk)\n",
    "    return hash_md5.hexdigest()\n",
    "\n",
    "def output_md5(output_file, file_list, prefix=''):\n",
    "    with open(output_file, 'w') as output_file:\n",
    "        for f in file_list:\n",
    "            md5 = get_md5(prefix+f)\n",
    "            output_file.write('%s: %s\\n' % (f, md5))"
   ]
  },
  {
   "cell_type": "code",
   "execution_count": 2,
   "metadata": {},
   "outputs": [],
   "source": [
    "src = '/media/tangliyao/bhfs'\n",
    "dst = '/media/tangliyao/TOSHIBA EXT'\n",
    "output_dir = '~'\n",
    "\n",
    "include = '.*'\n",
    "exclude = ['.*/System Volume Information/.*', '.*/\\$RECYCLE.BIN/.*', '.*/\\.Trash.*']\n",
    "\n",
    "src_files = get_files(src, sort=True, re_expr=include, exclude=exclude)\n",
    "dst_files = get_files(dst, sort=True, re_expr=include, exclude=exclude)\n",
    "\n",
    "src_files = [f[len(src):] for f in src_files]\n",
    "dst_files = [f[len(dst):] for f in dst_files]"
   ]
  },
  {
   "cell_type": "code",
   "execution_count": 3,
   "metadata": {},
   "outputs": [
    {
     "data": {
      "text/plain": [
       "set()"
      ]
     },
     "execution_count": 3,
     "metadata": {},
     "output_type": "execute_result"
    }
   ],
   "source": [
    "set(src_files).difference(set(dst_files))"
   ]
  },
  {
   "cell_type": "code",
   "execution_count": 4,
   "metadata": {},
   "outputs": [],
   "source": [
    "src_md5 = os.path.join(os.path.expanduser(output_dir), 'src_md5')\n",
    "output_md5(src_md5, src_files, prefix=src)"
   ]
  },
  {
   "cell_type": "code",
   "execution_count": 5,
   "metadata": {},
   "outputs": [],
   "source": [
    "dst_md5 = os.path.join(os.path.expanduser(output_dir), 'dst_md5')\n",
    "output_md5(dst_md5, dst_files, prefix=dst)"
   ]
  },
  {
   "cell_type": "code",
   "execution_count": 6,
   "metadata": {},
   "outputs": [
    {
     "data": {
      "text/plain": [
       "(array([], dtype=int64),)"
      ]
     },
     "execution_count": 6,
     "metadata": {},
     "output_type": "execute_result"
    }
   ],
   "source": [
    "src_md5_f = open(src_md5).read().split('\\n')\n",
    "dst_md5_f = open(dst_md5).read().split('\\n')\n",
    "np.where(np.array(src_md5_f) != np.array(dst_md5_f))"
   ]
  },
  {
   "cell_type": "code",
   "execution_count": null,
   "metadata": {},
   "outputs": [],
   "source": []
  }
 ],
 "metadata": {
  "kernelspec": {
   "display_name": "Python 3",
   "language": "python",
   "name": "python3"
  },
  "language_info": {
   "codemirror_mode": {
    "name": "ipython",
    "version": 3
   },
   "file_extension": ".py",
   "mimetype": "text/x-python",
   "name": "python",
   "nbconvert_exporter": "python",
   "pygments_lexer": "ipython3",
   "version": "3.6.10"
  }
 },
 "nbformat": 4,
 "nbformat_minor": 4
}

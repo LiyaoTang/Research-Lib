{
 "cells": [
  {
   "cell_type": "code",
   "execution_count": 1,
   "metadata": {},
   "outputs": [
    {
     "name": "stderr",
     "output_type": "stream",
     "text": [
      "/usr/lib/python3.6/importlib/_bootstrap.py:219: RuntimeWarning: compiletime version 3.5 of module 'lxml.etree' does not match runtime version 3.6\n",
      "  return f(*args, **kwds)\n"
     ]
    }
   ],
   "source": [
    "import os\n",
    "import shutil\n",
    "import urllib\n",
    "import requests\n",
    "from lxml import html, etree"
   ]
  },
  {
   "cell_type": "code",
   "execution_count": 2,
   "metadata": {},
   "outputs": [],
   "source": [
    "# # OTB-100\n",
    "# html = etree.parse(web, etree.HTMLParser())\n",
    "# result = etree.tostring(html)\n",
    "# result = html.xpath('//a[contains(@href, \"seq/\")]')\n",
    "\n",
    "# base_url = 'http://cvlab.hanyang.ac.kr/tracker_benchmark/'\n",
    "# folder = os.path.expanduser('~/Downloads/OTB100/')\n",
    "# if os.path.isdir(folder):\n",
    "#     shutil.rmtree(folder)\n",
    "# os.makedirs(folder)\n",
    "# for r in result:\n",
    "#     url = base_url + r.attrib['href']\n",
    "#     dst = os.path.join(folder, url.split('/')[-1])\n",
    "    \n",
    "#     urllib.request.urlretrieve(url, dst)"
   ]
  },
  {
   "cell_type": "code",
   "execution_count": null,
   "metadata": {},
   "outputs": [
    {
     "name": "stdout",
     "output_type": "stream",
     "text": [
      "downloading bag\n",
      "\tretrying ... 1\n"
     ]
    }
   ],
   "source": [
    "# VOT\n",
    "folder = os.path.expanduser('/Data/VOT/2016/')\n",
    "os.makedirs(folder, exist_ok=True)\n",
    "\n",
    "log = '/home/tangliyao/Research/vot-toolkit/vot-workspace/log_2016'\n",
    "with open(log, 'r') as f:\n",
    "    log = f.read().split('\\n\\n')\n",
    "assert len(log) == 60\n",
    "\n",
    "skip_seq = set([])\n",
    "for seq in log:\n",
    "    seq = [i.strip('\\n ') for i in seq.split('\\n') if i]\n",
    "    seq_n = seq[0].split('\"')[1]\n",
    "    ann_url = seq[1].split('=')[-1].strip()\n",
    "    img_url = seq[2].split('=')[-1].strip()\n",
    "    \n",
    "    if seq in skip_seq:\n",
    "        continue\n",
    "\n",
    "    print('downloading', seq_n)\n",
    "    dst_folder = os.path.join(folder, seq_n)\n",
    "    if os.path.isdir(dst_folder):\n",
    "        shutil.rmtree(dst_folder)\n",
    "    os.makedirs(dst_folder)\n",
    "    \n",
    "    for url in [ann_url, img_url]:\n",
    "        cnt = 0\n",
    "        while cnt < 100: # keep trying\n",
    "            try:\n",
    "                dst = os.path.join(dst_folder, url.split('/')[-1])\n",
    "                urllib.request.urlretrieve(url, dst)\n",
    "            except:\n",
    "                os.remove(dst)\n",
    "                cnt += 1\n",
    "                print('\\tretrying ...', cnt)\n",
    "                continue\n",
    "            break"
   ]
  },
  {
   "cell_type": "code",
   "execution_count": null,
   "metadata": {},
   "outputs": [],
   "source": []
  }
 ],
 "metadata": {
  "kernelspec": {
   "display_name": "Python 3",
   "language": "python",
   "name": "python3"
  },
  "language_info": {
   "codemirror_mode": {
    "name": "ipython",
    "version": 3
   },
   "file_extension": ".py",
   "mimetype": "text/x-python",
   "name": "python",
   "nbconvert_exporter": "python",
   "pygments_lexer": "ipython3",
   "version": "3.6.9"
  }
 },
 "nbformat": 4,
 "nbformat_minor": 2
}

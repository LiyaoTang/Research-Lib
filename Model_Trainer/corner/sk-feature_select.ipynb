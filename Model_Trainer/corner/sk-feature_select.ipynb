{
 "cells": [
  {
   "cell_type": "code",
   "execution_count": 27,
   "metadata": {},
   "outputs": [],
   "source": [
    "#!/usr/bin/env python\n",
    "# coding: utf-8\n",
    "'''\n",
    "construct model for points cloud input based on XG-Boost\n",
    "'''\n",
    "\n",
    "import sys\n",
    "root_dir = '../../'\n",
    "sys.path.append(root_dir)\n",
    "sys.path.append(root_dir + 'Data/corner/scripts')\n",
    "\n",
    "import os\n",
    "import psutil\n",
    "import matplotlib\n",
    "# matplotlib.use('agg') # so that plt works in command line\n",
    "import numpy as np\n",
    "import matplotlib.pyplot as plt\n",
    "import sklearn.ensemble as sken\n",
    "import sklearn.feature_selection as skfs\n",
    "import Data_Feeder as feeder\n",
    "import Metric_Recorder as recorder\n",
    "import Model_Constructer as constructer\n",
    "\n",
    "from optparse import OptionParser"
   ]
  },
  {
   "cell_type": "code",
   "execution_count": 75,
   "metadata": {},
   "outputs": [
    {
     "name": "stdout",
     "output_type": "stream",
     "text": [
      "['x', 'y', 'angle', 'distance', 'speed', 'rcs', 'v_x', 'v_y']\n"
     ]
    }
   ],
   "source": [
    "data_path = root_dir + 'Data/corner/dw_19991231_162610_0.000000_0.000000/'\n",
    "class_num = 2\n",
    "line_re = '\\t (?!3).*' # only corner radar\n",
    "select_cols = [2,3,4,5,6,7,8,9] # all valid cols\n",
    "\n",
    "dataset = feeder.Corner_Radar_Points_Gen_Feeder(data_path, \n",
    "                                                class_num=class_num, \n",
    "                                                use_onehot=False, \n",
    "                                                line_re=line_re, \n",
    "                                                select_cols=select_cols)\n",
    "points, labels = dataset.get_all_data(allowed=True)\n",
    "points = np.vstack(points)\n",
    "labels = np.concatenate(labels)\n",
    "\n",
    "print(dataset.feature_names)"
   ]
  },
  {
   "cell_type": "code",
   "execution_count": 76,
   "metadata": {},
   "outputs": [],
   "source": [
    "std_points = points.copy()\n",
    "std_points -= std_points.mean(axis=0)\n",
    "std_points /= std_points.std(axis=0)\n",
    "std_points[np.where(std_points != std_points)] = 0\n",
    "\n",
    "minmax_point = std_points.copy()\n",
    "minmax_point = (minmax_point - minmax_point.min(axis=0)) / (minmax_point.max(axis=0) - minmax_point.min(axis=0))\n",
    "minmax_point[np.where(minmax_point != minmax_point)] = 0"
   ]
  },
  {
   "cell_type": "code",
   "execution_count": 101,
   "metadata": {},
   "outputs": [],
   "source": [
    "var_mat = np.zeros((points.shape[1],points.shape[1]))\n",
    "for i in range(points.shape[1]):\n",
    "    for j in range(i,points.shape[1]):\n",
    "        var_mat[i,j] = ((points[:,i] - points[:,j])**2).sum() / points.shape[0]"
   ]
  },
  {
   "cell_type": "code",
   "execution_count": 102,
   "metadata": {},
   "outputs": [
    {
     "name": "stdout",
     "output_type": "stream",
     "text": [
      "        x        y        angle    distance speed    rcs      v_x      v_y      \n",
      "x        0        733.465  497.505  1473.130 921.689  638.998  1281.099 621.421  \n",
      "y        0        0        225.865  1190.044 663.771  357.691  562.010  562.482  \n",
      "angle    0        0        0        787.520  428.737  126.242  305.594  140.406  \n",
      "distance 0        0        0        0        1844.512 1124.648 1073.781 868.834  \n",
      "speed    0        0        0        0        0        441.044  1024.825 552.629  \n",
      "rcs      0        0        0        0        0        0        394.272  246.435  \n",
      "v_x      0        0        0        0        0        0        0        401.622  \n",
      "v_y      0        0        0        0        0        0        0        0        \n"
     ]
    }
   ],
   "source": [
    "print('%-8s' % ' ', end='')\n",
    "for i in range(points.shape[1]):\n",
    "    print('%-8s' % dataset.feature_names[i], end=' ')\n",
    "print()\n",
    "for i in range(points.shape[1]):\n",
    "    print('%-8s' % dataset.feature_names[i], end=' ')\n",
    "    for n in var_mat[i]:\n",
    "        if n > 0:\n",
    "            print('%-8.3f' % n, end=' ')\n",
    "        else:\n",
    "            print('%-8d' % 0, end=' ')\n",
    "    print()"
   ]
  },
  {
   "cell_type": "markdown",
   "metadata": {},
   "source": [
    "## uni-variate selection"
   ]
  },
  {
   "cell_type": "code",
   "execution_count": 25,
   "metadata": {
    "scrolled": true
   },
   "outputs": [
    {
     "name": "stdout",
     "output_type": "stream",
     "text": [
      "group_id   25.34446   0.00000   \n",
      "target_id  2158.44373 0.00000   \n",
      "x          9.98067    0.00158   \n",
      "y          8.70843    0.00317   \n",
      "angle      705.98211  0.00000   \n",
      "distance   2523.04772 0.00000   \n",
      "speed      1041.65435 0.00000   \n",
      "rcs        2271.05261 0.00000   \n",
      "v_x        46.23807   0.00000   \n",
      "v_y        0.23812    0.62556   \n",
      "lat_v      nan        nan       \n"
     ]
    }
   ],
   "source": [
    "transformer = skfs.GenericUnivariateSelect(skfs.chi2, 'k_best')\n",
    "transformer.fit(minmax_point, labels)\n",
    "for n, s, p in zip(dataset.feature_names, transformer.scores_, transformer.pvalues_):\n",
    "    print(\"%-10s %-10.5f %-10.5f\" % (n,s,p))"
   ]
  },
  {
   "cell_type": "markdown",
   "metadata": {},
   "source": [
    "## recursive feature elimination"
   ]
  },
  {
   "cell_type": "code",
   "execution_count": 44,
   "metadata": {},
   "outputs": [
    {
     "name": "stdout",
     "output_type": "stream",
     "text": [
      "group_id   10\n",
      "target_id  8\n",
      "x          6\n",
      "y          1\n",
      "angle      5\n",
      "distance   2\n",
      "speed      7\n",
      "rcs        3\n",
      "v_x        4\n",
      "v_y        9\n",
      "lat_v      11\n",
      "=> ['y', 'distance', 'rcs', 'v_x', 'angle', 'x', 'speed', 'target_id', 'v_y', 'group_id', 'lat_v']\n"
     ]
    }
   ],
   "source": [
    "estimator = sken.RandomForestClassifier(10)\n",
    "rfe = skfs.RFE(estimator=estimator, verbose=1)\n",
    "rfe.fit(points, labels)\n",
    "\n",
    "for n, r in zip(dataset.feature_names, rfe.ranking_):\n",
    "    print('%-10s %d' % (n, r))\n",
    "print('=>', [dataset.feature_names[i] for i in np.argsort(rfe.ranking_)])"
   ]
  },
  {
   "cell_type": "code",
   "execution_count": 58,
   "metadata": {},
   "outputs": [
    {
     "name": "stdout",
     "output_type": "stream",
     "text": [
      "Fitting estimator with 11 features.\n",
      "Fitting estimator with 10 features.\n"
     ]
    },
    {
     "data": {
      "text/plain": [
       "RFECV(cv=4,\n",
       "   estimator=RandomForestClassifier(bootstrap=True, class_weight=None, criterion='gini',\n",
       "            max_depth=None, max_features='auto', max_leaf_nodes=None,\n",
       "            min_impurity_decrease=0.0, min_impurity_split=None,\n",
       "            min_samples_leaf=1, min_samples_split=2,\n",
       "            min_weight_fraction_leaf=0.0, n_estimators=10, n_jobs=None,\n",
       "            oob_score=False, random_state=None, verbose=0,\n",
       "            warm_start=False),\n",
       "   min_features_to_select=1, n_jobs=4, scoring=None, step=1, verbose=1)"
      ]
     },
     "execution_count": 58,
     "metadata": {},
     "output_type": "execute_result"
    }
   ],
   "source": [
    "estimator = sken.RandomForestClassifier(10)\n",
    "cv_fold = 4\n",
    "rfecv = skfs.RFECV(estimator=estimator, cv=cv_fold, verbose=1, n_jobs=cv_fold, min_features_to_select=1)\n",
    "rfecv.fit(points, labels)"
   ]
  },
  {
   "cell_type": "code",
   "execution_count": 59,
   "metadata": {},
   "outputs": [
    {
     "name": "stdout",
     "output_type": "stream",
     "text": [
      "name       score cv_score\n",
      "group_id   2     0.961\n",
      "target_id  1     0.977\n",
      "x          1     0.980\n",
      "y          1     0.982\n",
      "angle      1     0.984\n",
      "distance   1     0.984\n",
      "speed      1     0.985\n",
      "rcs        1     0.985\n",
      "v_x        1     0.986\n",
      "v_y        1     0.986\n",
      "lat_v      3     0.986\n",
      "=> ['target_id', 'x', 'y', 'angle', 'distance', 'speed', 'rcs', 'v_x', 'v_y', 'group_id', 'lat_v']\n"
     ]
    }
   ],
   "source": [
    "print('%-10s %-5s %s' % ('name', 'score', 'cv_score'))\n",
    "for n, r, s in zip(dataset.feature_names, rfecv.ranking_, rfecv.grid_scores_):\n",
    "    print('%-10s %-5d %-.3f' % (n, r, s))\n",
    "print('=>', [dataset.feature_names[i] for i in np.argsort(rfecv.ranking_)])"
   ]
  },
  {
   "cell_type": "code",
   "execution_count": null,
   "metadata": {},
   "outputs": [],
   "source": []
  }
 ],
 "metadata": {
  "kernelspec": {
   "display_name": "Python 3",
   "language": "python",
   "name": "python3"
  },
  "language_info": {
   "codemirror_mode": {
    "name": "ipython",
    "version": 3
   },
   "file_extension": ".py",
   "mimetype": "text/x-python",
   "name": "python",
   "nbconvert_exporter": "python",
   "pygments_lexer": "ipython3",
   "version": "3.6.9"
  }
 },
 "nbformat": 4,
 "nbformat_minor": 2
}

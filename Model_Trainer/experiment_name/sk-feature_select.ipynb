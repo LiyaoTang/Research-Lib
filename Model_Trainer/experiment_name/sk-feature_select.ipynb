{
 "cells": [
  {
   "cell_type": "code",
   "execution_count": 27,
   "metadata": {},
   "outputs": [],
   "source": [
    "#!/usr/bin/env python\n",
    "# coding: utf-8\n",
    "'''\n",
    "construct model for points cloud input based on XG-Boost\n",
    "'''\n",
    "\n",
    "import sys\n",
    "root_dir = '../../'\n",
    "sys.path.append(root_dir)\n",
    "sys.path.append(root_dir + 'Data/corner/scripts')\n",
    "\n",
    "import os\n",
    "import psutil\n",
    "import matplotlib\n",
    "# matplotlib.use('agg') # so that plt works in command line\n",
    "import numpy as np\n",
    "import matplotlib.pyplot as plt\n",
    "import sklearn.ensemble as sken\n",
    "import sklearn.feature_selection as skfs\n",
    "import Data_Feeder as feeder\n",
    "import Metric_Recorder as recorder\n",
    "import Model_Constructer as constructer\n",
    "\n",
    "from optparse import OptionParser"
   ]
  },
  {
   "cell_type": "code",
   "execution_count": 21,
   "metadata": {},
   "outputs": [
    {
     "name": "stdout",
     "output_type": "stream",
     "text": [
      "['group_id', 'target_id', 'x', 'y', 'angle', 'distance', 'speed', 'rcs', 'v_x', 'v_y', 'lat_v']\n"
     ]
    }
   ],
   "source": [
    "data_path = root_dir + 'Data/corner/dw_19991231_162610_0.000000_0.000000/'\n",
    "class_num = 2\n",
    "line_re = '\\t (?!3).*' # only corner radar\n",
    "select_cols = [0, 1, 2,3,4,5,6,7,8,9,10] # all valid cols\n",
    "\n",
    "dataset = feeder.Corner_Radar_Points_Gen_Feeder(data_path, \n",
    "                                                class_num=class_num, \n",
    "                                                use_onehot=False, \n",
    "                                                line_re=line_re, \n",
    "                                                select_cols=select_cols)\n",
    "points, labels = dataset.get_all_data(allowed=True)\n",
    "points = np.vstack(points)\n",
    "labels = np.concatenate(labels)\n",
    "\n",
    "print(dataset.feature_names)"
   ]
  },
  {
   "cell_type": "code",
   "execution_count": 24,
   "metadata": {},
   "outputs": [
    {
     "name": "stderr",
     "output_type": "stream",
     "text": [
      "/home/tangliyao/miniconda3/lib/python3.6/site-packages/ipykernel_launcher.py:3: RuntimeWarning: invalid value encountered in true_divide\n",
      "  This is separate from the ipykernel package so we can avoid doing imports until\n",
      "/home/tangliyao/miniconda3/lib/python3.6/site-packages/ipykernel_launcher.py:7: RuntimeWarning: invalid value encountered in true_divide\n",
      "  import sys\n"
     ]
    }
   ],
   "source": [
    "std_points = points.copy()\n",
    "std_points -= std_points.mean(axis=0)\n",
    "std_points /= std_points.std(axis=0)\n",
    "std_points[np.where(std_points != std_points)] = 0\n",
    "\n",
    "minmax_point = std_points.copy()\n",
    "minmax_point = (minmax_point - minmax_point.min(axis=0)) / (minmax_point.max(axis=0) - minmax_point.min(axis=0))\n",
    "minmax_point[np.where(minmax_point != minmax_point)] = 0"
   ]
  },
  {
   "cell_type": "markdown",
   "metadata": {},
   "source": [
    "## uni-variate selection"
   ]
  },
  {
   "cell_type": "code",
   "execution_count": 25,
   "metadata": {
    "scrolled": true
   },
   "outputs": [
    {
     "name": "stdout",
     "output_type": "stream",
     "text": [
      "group_id   25.34446   0.00000   \n",
      "target_id  2158.44373 0.00000   \n",
      "x          9.98067    0.00158   \n",
      "y          8.70843    0.00317   \n",
      "angle      705.98211  0.00000   \n",
      "distance   2523.04772 0.00000   \n",
      "speed      1041.65435 0.00000   \n",
      "rcs        2271.05261 0.00000   \n",
      "v_x        46.23807   0.00000   \n",
      "v_y        0.23812    0.62556   \n",
      "lat_v      nan        nan       \n"
     ]
    }
   ],
   "source": [
    "transformer = skfs.GenericUnivariateSelect(skfs.chi2, 'k_best')\n",
    "transformer.fit(minmax_point, labels)\n",
    "for n, s, p in zip(dataset.feature_names, transformer.scores_, transformer.pvalues_):\n",
    "    print(\"%-10s %-10.5f %-10.5f\" % (n,s,p))"
   ]
  },
  {
   "cell_type": "markdown",
   "metadata": {},
   "source": [
    "## recursive feature elimination"
   ]
  },
  {
   "cell_type": "code",
   "execution_count": null,
   "metadata": {},
   "outputs": [],
   "source": [
    "rand_forest = sken.RandomForestClassifier(100)\n",
    "rfe = skfs.RFE(estimator=rand_forest, n_features_to_select=1, step=1)\n",
    "rfe.fit(points, labels)"
   ]
  },
  {
   "cell_type": "code",
   "execution_count": null,
   "metadata": {},
   "outputs": [],
   "source": [
    "rfe.ranking_"
   ]
  },
  {
   "cell_type": "code",
   "execution_count": null,
   "metadata": {},
   "outputs": [],
   "source": []
  }
 ],
 "metadata": {
  "kernelspec": {
   "display_name": "Python 3",
   "language": "python",
   "name": "python3"
  },
  "language_info": {
   "codemirror_mode": {
    "name": "ipython",
    "version": 3
   },
   "file_extension": ".py",
   "mimetype": "text/x-python",
   "name": "python",
   "nbconvert_exporter": "python",
   "pygments_lexer": "ipython3",
   "version": "3.6.6"
  }
 },
 "nbformat": 4,
 "nbformat_minor": 2
}

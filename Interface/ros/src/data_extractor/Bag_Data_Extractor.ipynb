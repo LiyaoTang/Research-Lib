{
 "cells": [
  {
   "cell_type": "code",
   "execution_count": 1,
   "metadata": {},
   "outputs": [
    {
     "ename": "ModuleNotFoundError",
     "evalue": "No module named 'rospy'",
     "output_type": "error",
     "traceback": [
      "\u001b[0;31m---------------------------------------------------------------------------\u001b[0m",
      "\u001b[0;31mModuleNotFoundError\u001b[0m                       Traceback (most recent call last)",
      "\u001b[0;32m<ipython-input-1-3626e00359d3>\u001b[0m in \u001b[0;36m<module>\u001b[0;34m\u001b[0m\n\u001b[1;32m      2\u001b[0m \u001b[0;31m# -*- coding: utf-8 -*-\u001b[0m\u001b[0;34m\u001b[0m\u001b[0;34m\u001b[0m\u001b[0m\n\u001b[1;32m      3\u001b[0m \u001b[0;34m\u001b[0m\u001b[0m\n\u001b[0;32m----> 4\u001b[0;31m \u001b[0;32mimport\u001b[0m \u001b[0mrospy\u001b[0m\u001b[0;34m\u001b[0m\u001b[0m\n\u001b[0m\u001b[1;32m      5\u001b[0m \u001b[0;32mimport\u001b[0m \u001b[0mrosbag\u001b[0m\u001b[0;34m\u001b[0m\u001b[0m\n\u001b[1;32m      6\u001b[0m \u001b[0;32mimport\u001b[0m \u001b[0mstd_msgs\u001b[0m\u001b[0;34m.\u001b[0m\u001b[0mmsg\u001b[0m \u001b[0;32mas\u001b[0m \u001b[0mstd_msg\u001b[0m\u001b[0;34m\u001b[0m\u001b[0m\n",
      "\u001b[0;31mModuleNotFoundError\u001b[0m: No module named 'rospy'"
     ]
    }
   ],
   "source": [
    "#!/usr/bin/env python\n",
    "# -*- coding: utf-8 -*-\n",
    "\n",
    "import rospy\n",
    "import rosbag\n",
    "import std_msgs.msg as std_msg\n",
    "from collections import namedtuple\n",
    "import sys\n",
    "import math\n",
    "\n",
    "\n",
    "sys.path.append('../../devel/lib/python3/dist-packages/')\n",
    "if sys.getdefaultencoding() != 'utf-8':\n",
    "    print('forcing default to utf-8')\n",
    "    reload(sys)\n",
    "    sys.setdefaultencoding('utf-8')"
   ]
  },
  {
   "cell_type": "code",
   "execution_count": 2,
   "metadata": {},
   "outputs": [],
   "source": [
    "import perception_msgs.msg as percept_msg"
   ]
  },
  {
   "cell_type": "code",
   "execution_count": 3,
   "metadata": {},
   "outputs": [],
   "source": [
    "bag_name = '[20180630保定][15s][连续换道].bag'\n",
    "path_folder = '../../../../L3-Apollo-Data/'\n",
    "\n",
    "path_folder = path_folder.rstrip('/')+'/'\n",
    "path_bag = path_folder + bag_name"
   ]
  },
  {
   "cell_type": "code",
   "execution_count": 4,
   "metadata": {},
   "outputs": [],
   "source": [
    "# roatation: counter-clockwise; translation: front +x, left +y\n",
    "radar_configs = {'fl':{'rotation':{'pitch':0,'yaw':1.2422,'roll':0},'translation':{'x':0.6,'y':0.96,'z':0}},\n",
    "                 'fr':{'rotation':{'pitch':0,'yaw':-1.211,'roll':0},'translation':{'x':0.6,'y':-0.95,'z':0}},\n",
    "                 'bl':{'rotation':{'pitch':0,'yaw':1.2577174,'roll':0},'translation':{'x':-3.62,'y':0.92,'z':0}},\n",
    "                 'br':{'rotation':{'pitch':0,'yaw':-1.91468,'roll':0},'translation':{'x':-3.59,'y':-0.96,'z':0}}}\n",
    "radar_types = ('fl', 'fr', 'bl', 'br')"
   ]
  },
  {
   "cell_type": "code",
   "execution_count": 5,
   "metadata": {},
   "outputs": [],
   "source": [
    "bag = rosbag.Bag(path_bag)\n",
    "meta_info = bag.get_type_and_topic_info()"
   ]
  },
  {
   "cell_type": "code",
   "execution_count": 6,
   "metadata": {},
   "outputs": [],
   "source": [
    "all_msg_types = tuple(meta_info[0].keys())\n",
    "all_topics_info = meta_info[1]"
   ]
  },
  {
   "cell_type": "code",
   "execution_count": 7,
   "metadata": {},
   "outputs": [
    {
     "ename": "AssertionError",
     "evalue": "",
     "output_type": "error",
     "traceback": [
      "\u001b[0;31m---------------------------------------------------------------------------\u001b[0m",
      "\u001b[0;31mAssertionError\u001b[0m                            Traceback (most recent call last)",
      "\u001b[0;32m<ipython-input-7-19acbea0114d>\u001b[0m in \u001b[0;36m<module>\u001b[0;34m()\u001b[0m\n\u001b[1;32m     43\u001b[0m \u001b[0;32mfor\u001b[0m \u001b[0mcur_type\u001b[0m \u001b[0;32min\u001b[0m \u001b[0mradar_types\u001b[0m\u001b[0;34m:\u001b[0m\u001b[0;34m\u001b[0m\u001b[0m\n\u001b[1;32m     44\u001b[0m     \u001b[0mfile_name\u001b[0m \u001b[0;34m=\u001b[0m \u001b[0mcur_type\u001b[0m \u001b[0;34m+\u001b[0m \u001b[0;34m'_out'\u001b[0m\u001b[0;34m\u001b[0m\u001b[0m\n\u001b[0;32m---> 45\u001b[0;31m     \u001b[0mradar_solvers\u001b[0m\u001b[0;34m.\u001b[0m\u001b[0mappend\u001b[0m\u001b[0;34m(\u001b[0m\u001b[0mRadar_Solver\u001b[0m\u001b[0;34m(\u001b[0m\u001b[0mfile_name\u001b[0m\u001b[0;34m,\u001b[0m \u001b[0mcur_type\u001b[0m\u001b[0;34m,\u001b[0m \u001b[0mradar_configs\u001b[0m\u001b[0;34m[\u001b[0m\u001b[0mcur_type\u001b[0m\u001b[0;34m]\u001b[0m\u001b[0;34m)\u001b[0m\u001b[0;34m)\u001b[0m\u001b[0;34m\u001b[0m\u001b[0m\n\u001b[0m",
      "\u001b[0;32m<ipython-input-7-19acbea0114d>\u001b[0m in \u001b[0;36m__init__\u001b[0;34m(self, file_name, radar_type, radar_config, transfer_type)\u001b[0m\n\u001b[1;32m      4\u001b[0m     \u001b[0;32mdef\u001b[0m \u001b[0m__init__\u001b[0m\u001b[0;34m(\u001b[0m\u001b[0mself\u001b[0m\u001b[0;34m,\u001b[0m \u001b[0mfile_name\u001b[0m\u001b[0;34m,\u001b[0m \u001b[0mradar_type\u001b[0m\u001b[0;34m,\u001b[0m \u001b[0mradar_config\u001b[0m\u001b[0;34m,\u001b[0m \u001b[0mtransfer_type\u001b[0m\u001b[0;34m=\u001b[0m\u001b[0;34m'2D'\u001b[0m\u001b[0;34m)\u001b[0m\u001b[0;34m:\u001b[0m\u001b[0;34m\u001b[0m\u001b[0m\n\u001b[1;32m      5\u001b[0m         \u001b[0;32massert\u001b[0m \u001b[0mfile_name\u001b[0m \u001b[0;32mnot\u001b[0m \u001b[0;32min\u001b[0m \u001b[0mRadar_Solver\u001b[0m\u001b[0;34m.\u001b[0m\u001b[0mfile_set\u001b[0m\u001b[0;34m\u001b[0m\u001b[0m\n\u001b[0;32m----> 6\u001b[0;31m         \u001b[0;32massert\u001b[0m \u001b[0mradar_type\u001b[0m \u001b[0;32min\u001b[0m \u001b[0;34m(\u001b[0m\u001b[0;34m'rf,rb,lf,lb'\u001b[0m\u001b[0;34m)\u001b[0m\u001b[0;34m\u001b[0m\u001b[0m\n\u001b[0m\u001b[1;32m      7\u001b[0m         \u001b[0;32massert\u001b[0m \u001b[0mtransfer_type\u001b[0m \u001b[0;32min\u001b[0m \u001b[0;34m(\u001b[0m\u001b[0;34m'2D'\u001b[0m\u001b[0;34m)\u001b[0m\u001b[0;34m\u001b[0m\u001b[0m\n\u001b[1;32m      8\u001b[0m \u001b[0;34m\u001b[0m\u001b[0m\n",
      "\u001b[0;31mAssertionError\u001b[0m: "
     ]
    }
   ],
   "source": [
    "class Solver:\n",
    "    file_set = set([])\n",
    "    def __init__(self,file_name):\n",
    "        assert file_name not in Radar_Solver.file_set\n",
    "        \n",
    "        \n",
    "class Radar_Solver (Solver):\n",
    "    file_set = set([])\n",
    "\n",
    "    def __init__(self, file_name, radar_type, radar_config, transfer_type='2D'):\n",
    "        assert file_name not in Radar_Solver.file_set\n",
    "        assert radar_type in ('rf','rb','lf','lb')\n",
    "        assert transfer_type in ('2D')\n",
    "        \n",
    "        Radar_Solver.file_set.add(file_name)\n",
    "        self.log = open(file_name, 'w')\n",
    "        self.radar_config = radar_config\n",
    "        self.type = radar_type\n",
    "        \n",
    "        self.gen_transfer()\n",
    "    \n",
    "    def gen_transfer(self, transfer_type):\n",
    "        assert transfer_type in ('2D', '3D')\n",
    "        \n",
    "        yaw = self.radar_config[self.type]['rotation']['yaw']\n",
    "        self.__sin_yaw = math.sin(yaw)\n",
    "        self.__cos_yaw = math.cos(yaw)\n",
    "\n",
    "        self.__offset_x = self.radar_config[self.type]['translation']['x']\n",
    "        self.__offset_y = self.radar_config[self.type]['translation']['y']\n",
    "        \n",
    "        # projected_x = x*cos_yaw - y*sin_yaw\n",
    "        # projected_y = x*sin_yaw + y*cos_yaw\n",
    "        if transfer_type == '2D':\n",
    "            self.transfer = lambda x,y: (x*self.__cos_yaw - y*self.__sin_yaw - self.__offset_x, \n",
    "                                         x*self.__sin_yaw + y*self.__cos_yaw - self.__offset_y)\n",
    "    \n",
    "    def record(self, radar_targets):\n",
    "        self.log.write(len(radar_targets.radar_targets), end=': ')\n",
    "        for cur_tar in radar_targets.radar_targets:\n",
    "            x,y = self.transfer(cur_tar.coordinate.x, cur_tar.coordinate.y)\n",
    "            self.log.write(cur_tar.timestamp, x, y, cur_tar.velocity.x, ';')\n",
    "        self.log.write()\n",
    "\n",
    "def speed_func(coord3d, file):\n",
    "    print('cur speed:', coord3d.x, coord3d.y)\n",
    "    \n",
    "\n",
    "radar_solvers = []\n",
    "for cur_type in radar_types:\n",
    "    file_name = cur_type + '_out'\n",
    "    radar_solvers.append(Radar_Solver(file_name, cur_type, radar_configs[cur_type]))"
   ]
  },
  {
   "cell_type": "code",
   "execution_count": null,
   "metadata": {},
   "outputs": [],
   "source": [
    "focused_topics = {'radar':('/radar/right_front_targets', '/radar/right_back_targets', '/radar/left_front_targets', '/radar/left_back_targets'),\n",
    "                  'speed':('/vehicle_speed')}\n",
    "data_types = {'radar':percept_msg.radar_targets,\n",
    "             'speed':percept_msg.vehicle_speed}\n",
    "callback_funcs = {'radar':radar_func,\n",
    "                  'speed':speed_func}"
   ]
  },
  {
   "cell_type": "code",
   "execution_count": null,
   "metadata": {},
   "outputs": [],
   "source": [
    "# class Listener:\n",
    "#     self.radar = dict{}\n",
    "#     def radar_callback(msg):\n",
    "#         print(msg)\n",
    "#     def speed_callback()"
   ]
  },
  {
   "cell_type": "code",
   "execution_count": null,
   "metadata": {
    "scrolled": true
   },
   "outputs": [],
   "source": [
    "rospy.init_node('listener', anonymous=True)\n",
    "\n",
    "for field in focused_topics:\n",
    "    cur_type = data_types[field]\n",
    "    cur_func = callback_funcs[field]\n",
    "    for cur_topic in focused_topics[field]:\n",
    "        rospy.Subscriber(cur_topic, cur_type, cur_func)\n",
    "\n",
    "# recording\n",
    "rospy.spin()"
   ]
  },
  {
   "cell_type": "code",
   "execution_count": null,
   "metadata": {},
   "outputs": [],
   "source": [
    "()"
   ]
  },
  {
   "cell_type": "code",
   "execution_count": null,
   "metadata": {},
   "outputs": [],
   "source": []
  },
  {
   "cell_type": "code",
   "execution_count": null,
   "metadata": {},
   "outputs": [],
   "source": []
  },
  {
   "cell_type": "code",
   "execution_count": null,
   "metadata": {},
   "outputs": [],
   "source": [
    "for i in all_topics_info:\n",
    "    print(i, '\\t\\t', all_topics_info[i].msg_type)"
   ]
  },
  {
   "cell_type": "code",
   "execution_count": null,
   "metadata": {},
   "outputs": [],
   "source": [
    "#!/usr/bin/env python\n",
    "\n",
    "import rospy\n",
    "from std_msgs.msg import String\n",
    "\n",
    "\n",
    "\n",
    "def listener():\n",
    "\n",
    "    rospy.init_node('listener', anonymous=True)\n",
    "    rospy.Subscriber('chatter', String, callback)\n",
    "\n",
    "    # spin() simply keeps python from exiting until this node is stopped\n",
    "    rospy.spin()\n",
    "\n",
    "if __name__ == '__main__':\n",
    "    listener()"
   ]
  },
  {
   "cell_type": "code",
   "execution_count": null,
   "metadata": {},
   "outputs": [],
   "source": [
    "# void CDrawMWR::transfer_coordinate(float &x, float &y, autopilot::datafusion::RadarBias radar_bias)\n",
    "# {\n",
    "#     double rotate_angle = -radar_bias.yaw_bias;\n",
    "#     float ptx2 = x * cos(rotate_angle) + y * sin(rotate_angle);\n",
    "#     float pty2 = -x * sin(rotate_angle) + y * cos(rotate_angle);\n",
    "\n",
    "#     //    float ptx2 = x * cos(rotate_angle) - y * sin(rotate_angle);\n",
    "#     //    float pty2 = x * sin(rotate_angle) + y * cos(rotate_angle);\n",
    "\n",
    "#     x = ptx2 + radar_bias.radar_translation.x;\n",
    "#     y = pty2 + radar_bias.radar_translation.y;\n",
    "# }\n",
    "\n",
    "# /automode_request\n",
    "# /brake_info\n",
    "# /gearbox_info\n",
    "# /gps_info\n",
    "# /inspva_info\n",
    "# /light_info\n",
    "# /perception/kouliang\n",
    "# /perception/radar_curbs\n",
    "# /perception/rsds_curbs\n",
    "# /pnc/control\n",
    "# /pnchighway/status\n",
    "# /radar/back_targets\n",
    "# /radar/front_targets\n",
    "# /radar/left_back_targets\n",
    "# /radar/left_front_targets\n",
    "# /radar/right_back_targets\n",
    "# /radar/right_front_targets\n",
    "# /road_info\n",
    "# /rosout\n",
    "# /rosout_agg\n",
    "# /steering_info\n",
    "# /vehicle_speed\n",
    "# /visual_objects\n",
    "# /visualization_marker\n",
    "# /wheel_speed"
   ]
  },
  {
   "cell_type": "code",
   "execution_count": null,
   "metadata": {},
   "outputs": [],
   "source": []
  },
  {
   "cell_type": "code",
   "execution_count": null,
   "metadata": {},
   "outputs": [],
   "source": [
    "/automode_request\n",
    "/brake_info\n",
    "/camera/front_left/compressed\n",
    "/camera/front_long/compressed\n",
    "/camera/front_middle/compressed\n",
    "/camera/front_right/compressed\n",
    "/camera/rear_left/compressed\n",
    "/camera/rear_right/compressed\n",
    "/clock\n",
    "/diagnostics\n",
    "/gearbox_info\n",
    "/gps_info\n",
    "/inspva_info\n",
    "/light_info\n",
    "/perception/kouliang\n",
    "/perception/radar_curbs\n",
    "/perception/rsds_curbs\n",
    "/pnc/control\n",
    "/pnchighway/status\n",
    "/radar/back_targets\n",
    "/radar/front_targets\n",
    "/radar/left_back_targets\n",
    "/radar/left_front_targets\n",
    "/radar/right_back_targets\n",
    "/radar/right_front_targets\n",
    "/road_info\n",
    "/rosout\n",
    "/rosout_agg\n",
    "/steering_info\n",
    "/vehicle_speed\n",
    "/visual_objects\n",
    "/visualization_marker\n",
    "/wheel_speed\n",
    "\n",
    "\n",
    "/automode_request\n",
    "/brake_info\n",
    "/camera/front_left/compressed\n",
    "/camera/front_long/compressed\n",
    "/camera/front_middle/compressed\n",
    "/camera/front_right/compressed\n",
    "/camera/rear_left/compressed\n",
    "/camera/rear_right/compressed\n",
    "/clock\n",
    "/diagnostics\n",
    "/gearbox_info\n",
    "/gps_info\n",
    "/inspva_info\n",
    "/light_info\n",
    "/perception/kouliang\n",
    "/perception/radar_curbs\n",
    "/perception/rsds_curbs\n",
    "/pnc/control\n",
    "/pnchighway/status\n",
    "/radar/back_targets\n",
    "/radar/front_targets\n",
    "/radar/left_back_targets\n",
    "/radar/left_front_targets\n",
    "/radar/right_back_targets\n",
    "/radar/right_front_targets\n",
    "/road_info\n",
    "/rosout\n",
    "/rosout_agg\n",
    "/steering_info\n",
    "/vehicle_speed\n",
    "/visual_objects\n",
    "/visualization_marker\n",
    "/wheel_speed\n",
    "\n",
    "/automode_request\n",
    "/brake_info\n",
    "/camera/front_left/compressed\n",
    "/camera/front_long/compressed\n",
    "/camera/front_middle/compressed\n",
    "/camera/front_right/compressed\n",
    "/camera/rear_left/compressed\n",
    "/camera/rear_right/compressed\n",
    "/clock\n",
    "/diagnostics\n",
    "/gearbox_info\n",
    "/gps_info\n",
    "/inspva_info\n",
    "/light_info\n",
    "/perception/kouliang\n",
    "/perception/radar_curbs\n",
    "/perception/rsds_curbs\n",
    "/pnc/control\n",
    "/pnchighway/status\n",
    "/radar/back_targets\n",
    "/radar/front_targets\n",
    "/radar/left_back_targets\n",
    "/radar/left_front_targets\n",
    "/radar/right_back_targets\n",
    "/radar/right_front_targets\n",
    "/road_info\n",
    "/rosout\n",
    "/rosout_agg\n",
    "/steering_info\n",
    "/vehicle_speed\n",
    "/visual_objects\n",
    "/visualization_marker\n",
    "/wheel_speed\n"
   ]
  },
  {
   "cell_type": "code",
   "execution_count": null,
   "metadata": {},
   "outputs": [],
   "source": []
  }
 ],
 "metadata": {
  "kernelspec": {
   "display_name": "Python 3",
   "language": "python",
   "name": "python3"
  },
  "language_info": {
   "codemirror_mode": {
    "name": "ipython",
    "version": 3
   },
   "file_extension": ".py",
   "mimetype": "text/x-python",
   "name": "python",
   "nbconvert_exporter": "python",
   "pygments_lexer": "ipython3",
   "version": "3.6.6"
  }
 },
 "nbformat": 4,
 "nbformat_minor": 2
}
